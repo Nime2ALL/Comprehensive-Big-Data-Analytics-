{
 "cells": [
  {
   "cell_type": "markdown",
   "id": "58b6cb1f-9694-47d5-b869-57a44c1a3621",
   "metadata": {},
   "source": [
    "# Data Preparation & Storage"
   ]
  },
  {
   "cell_type": "markdown",
   "id": "d6d72548-4cdb-4524-931f-6a4778df5932",
   "metadata": {},
   "source": [
    "## Load the datasets"
   ]
  },
  {
   "cell_type": "code",
   "execution_count": 5,
   "id": "9ea991eb-5727-4da2-976a-5f2a9be03b5d",
   "metadata": {},
   "outputs": [
    {
     "name": "stdout",
     "output_type": "stream",
     "text": [
      "        eventid  iyear  imonth  iday  approxdate  extended resolution  \\\n",
      "0  202101010004   2021       1     1         NaN         0        NaT   \n",
      "1  202101010005   2021       1     1  01/01/2021         0        NaT   \n",
      "2  202101010006   2021       1     1         NaN         0        NaT   \n",
      "3  202101010009   2021       1     1         NaN         0        NaT   \n",
      "4  202101010024   2021       1     2         NaN         0        NaT   \n",
      "\n",
      "   country  country_txt  region  ...  \\\n",
      "0       60        Egypt      10  ...   \n",
      "1       92        India       6  ...   \n",
      "2      228        Yemen      10  ...   \n",
      "3        4  Afghanistan       6  ...   \n",
      "4      182      Somalia      11  ...   \n",
      "\n",
      "                                            addnotes  \\\n",
      "0                                                NaN   \n",
      "1                                                NaN   \n",
      "2  There is doubt that this incident meets terror...   \n",
      "3  There is doubt that this incident meets terror...   \n",
      "4                                                NaN   \n",
      "\n",
      "                                              scite1  \\\n",
      "0  \"Egyptian officials: Roadside bombing in Sinai...   \n",
      "1  \"Terror module busted, seven arrested in J&K,\"...   \n",
      "2  \"Civilian reportedly dies of injuries from Hou...   \n",
      "3  \"Afghanistan- Ghor Provincial Council Member K...   \n",
      "4  \"Jubbaland lawmaker killed in car bomb blast,\"...   \n",
      "\n",
      "                                              scite2  \\\n",
      "0                                                NaN   \n",
      "1  \"Militants throw grenade on CRPF,\" HT Syndicat...   \n",
      "2  \"UN troubled by civilian deaths in Yemen's Hud...   \n",
      "3  \"Journalist killed on 1st day of new year in A...   \n",
      "4  \"Somali lawmaker killed in a sticky bomb attac...   \n",
      "\n",
      "                                              scite3  \\\n",
      "0                                                NaN   \n",
      "1                                                NaN   \n",
      "2  \"Five women killed in Yemen wedding attack,\" G...   \n",
      "3  \"Afghanistan: 2021 Begins with Assassination o...   \n",
      "4  \"Al-Shabab claims killing regional MP in south...   \n",
      "\n",
      "                   dbsource  INT_LOG  INT_IDEO INT_MISC INT_ANY  related  \n",
      "0  START Primary Collection       -9        -9        0      -9      NaN  \n",
      "1  START Primary Collection       -9        -9        0      -9      NaN  \n",
      "2  START Primary Collection        0         0        0       0      NaN  \n",
      "3  START Primary Collection       -9        -9        0      -9      NaN  \n",
      "4  START Primary Collection        0         0        0       0      NaN  \n",
      "\n",
      "[5 rows x 135 columns]\n"
     ]
    }
   ],
   "source": [
    "import pandas as pd\n",
    "\n",
    "# Load the datasets\n",
    "df1 = pd.read_excel(\"globalterrorismdb_0522dist.xlsx\")\n",
    "df2 = pd.read_excel(\"globalterrorismdb_2021Jan-June_1222dist.xlsx\")\n",
    "\n",
    "print(df2.head())"
   ]
  },
  {
   "cell_type": "code",
   "execution_count": 11,
   "id": "0b1e7c7c-3afd-400a-bb2b-8ffd848d62f1",
   "metadata": {},
   "outputs": [
    {
     "name": "stdout",
     "output_type": "stream",
     "text": [
      "        eventid  iyear  imonth  iday approxdate  extended resolution  country  \\\n",
      "0  197000000001   1970       7     2        NaN         0        NaT       58   \n",
      "1  197000000002   1970       0     0        NaN         0        NaT      130   \n",
      "2  197001000001   1970       1     0        NaN         0        NaT      160   \n",
      "3  197001000002   1970       1     0        NaN         0        NaT       78   \n",
      "4  197001000003   1970       1     0        NaN         0        NaT      101   \n",
      "\n",
      "          country_txt  region  ... addnotes scite1 scite2  scite3  dbsource  \\\n",
      "0  Dominican Republic       2  ...      NaN    NaN    NaN     NaN      PGIS   \n",
      "1              Mexico       1  ...      NaN    NaN    NaN     NaN      PGIS   \n",
      "2         Philippines       5  ...      NaN    NaN    NaN     NaN      PGIS   \n",
      "3              Greece       8  ...      NaN    NaN    NaN     NaN      PGIS   \n",
      "4               Japan       4  ...      NaN    NaN    NaN     NaN      PGIS   \n",
      "\n",
      "   INT_LOG  INT_IDEO INT_MISC INT_ANY  related  \n",
      "0        0         0        0       0      NaN  \n",
      "1        0         1        1       1      NaN  \n",
      "2       -9        -9        1       1      NaN  \n",
      "3       -9        -9        1       1      NaN  \n",
      "4       -9        -9        1       1      NaN  \n",
      "\n",
      "[5 rows x 135 columns]\n"
     ]
    }
   ],
   "source": [
    "print(df1.head())"
   ]
  },
  {
   "cell_type": "markdown",
   "id": "a1f4423f-f785-48d9-b034-153a5a7a0cb8",
   "metadata": {},
   "source": [
    "## Convert the datasets"
   ]
  },
  {
   "cell_type": "code",
   "execution_count": 7,
   "id": "fef24007-96a6-4793-beba-c5c65ec6de04",
   "metadata": {},
   "outputs": [],
   "source": [
    "# Save as CSV\n",
    "df1.to_csv(\"globalterrorismdb_1970_2020.csv\", index=False)\n",
    "df2.to_csv(\"globalterrorismdb_2021.csv\", index=False)"
   ]
  },
  {
   "cell_type": "code",
   "execution_count": 13,
   "id": "7ebf43e3-31c7-433c-975b-655958d0f821",
   "metadata": {},
   "outputs": [],
   "source": [
    "# Convert the 'approxdate' column to a string\n",
    "df1['approxdate'] = df1['approxdate'].astype(str)\n",
    "df2['approxdate'] = df2['approxdate'].astype(str)\n",
    "\n",
    "# Save as Parquet (recommended for Spark)\n",
    "df1.to_parquet(\"globalterrorismdb_1970_2020.parquet\", index=False)\n",
    "df2.to_parquet(\"globalterrorismdb_2021.parquet\", index=False)"
   ]
  },
  {
   "cell_type": "markdown",
   "id": "1e1eee5d-105e-4617-a0bf-68d4b31770cf",
   "metadata": {},
   "source": [
    "# Data Storage Using MongoDB"
   ]
  },
  {
   "cell_type": "code",
   "execution_count": 15,
   "id": "167a698a-4edc-4f55-aaef-49c347c17bae",
   "metadata": {},
   "outputs": [
    {
     "name": "stderr",
     "output_type": "stream",
     "text": [
      "C:\\Users\\sithu\\AppData\\Local\\Temp\\ipykernel_35660\\2524730832.py:10: DtypeWarning: Columns (4,31,33,54,61,62,63,76,79,90,92,94,96,114,115,121) have mixed types. Specify dtype option on import or set low_memory=False.\n",
      "  df1 = pd.read_csv(\"globalterrorismdb_1970_2020.csv\")\n",
      "C:\\Users\\sithu\\AppData\\Local\\Temp\\ipykernel_35660\\2524730832.py:11: DtypeWarning: Columns (79,114,115) have mixed types. Specify dtype option on import or set low_memory=False.\n",
      "  df2 = pd.read_csv(\"globalterrorismdb_2021.csv\")\n"
     ]
    },
    {
     "name": "stdout",
     "output_type": "stream",
     "text": [
      "CSV Data inserted successfully!\n"
     ]
    }
   ],
   "source": [
    "from pymongo import MongoClient\n",
    "import pandas as pd\n",
    "\n",
    "# Connect to MongoDB\n",
    "client = MongoClient(\"mongodb://localhost:27017/\")\n",
    "db = client[\"GlobalTerrorism\"]\n",
    "collection = db[\"GTD\"]\n",
    "\n",
    "# Load CSV\n",
    "df1 = pd.read_csv(\"globalterrorismdb_1970_2020.csv\")\n",
    "df2 = pd.read_csv(\"globalterrorismdb_2021.csv\")\n",
    "\n",
    "# Convert NaN to None for MongoDB compatibility\n",
    "df1 = df1.where(pd.notna(df1), None)\n",
    "df2 = df2.where(pd.notna(df2), None)\n",
    "\n",
    "# Insert into MongoDB\n",
    "collection.insert_many(df1.to_dict(orient=\"records\"))\n",
    "collection.insert_many(df2.to_dict(orient=\"records\"))\n",
    "\n",
    "print(\"CSV Data inserted successfully!\")"
   ]
  },
  {
   "cell_type": "markdown",
   "id": "2513c0ee-f8ec-48f7-babd-b8a282a9453f",
   "metadata": {},
   "source": [
    "## Query Data"
   ]
  },
  {
   "cell_type": "code",
   "execution_count": 17,
   "id": "fc11a92b-96b2-42c5-9aa6-98fc18c777cf",
   "metadata": {},
   "outputs": [
    {
     "name": "stdout",
     "output_type": "stream",
     "text": [
      "{'_id': ObjectId('67accb675a2fd9c0c2e5e739'), 'eventid': 197000000001, 'iyear': 1970, 'imonth': 7, 'iday': 2, 'approxdate': None, 'extended': 0, 'resolution': None, 'country': 58, 'country_txt': 'Dominican Republic', 'region': 2, 'region_txt': 'Central America & Caribbean', 'provstate': 'National', 'city': 'Santo Domingo', 'latitude': 18.456792, 'longitude': -69.951164, 'specificity': 1.0, 'vicinity': 0, 'location': None, 'summary': None, 'crit1': 1, 'crit2': 1, 'crit3': 1, 'doubtterr': 0, 'alternative': nan, 'alternative_txt': None, 'multiple': 0.0, 'success': 1, 'suicide': 0, 'attacktype1': 1, 'attacktype1_txt': 'Assassination', 'attacktype2': nan, 'attacktype2_txt': None, 'attacktype3': nan, 'attacktype3_txt': None, 'targtype1': 14, 'targtype1_txt': 'Private Citizens & Property', 'targsubtype1': 68.0, 'targsubtype1_txt': 'Named Civilian', 'corp1': None, 'target1': 'Julio Guzman', 'natlty1': 58.0, 'natlty1_txt': 'Dominican Republic', 'targtype2': nan, 'targtype2_txt': None, 'targsubtype2': nan, 'targsubtype2_txt': None, 'corp2': None, 'target2': None, 'natlty2': nan, 'natlty2_txt': None, 'targtype3': nan, 'targtype3_txt': None, 'targsubtype3': nan, 'targsubtype3_txt': None, 'corp3': None, 'target3': None, 'natlty3': nan, 'natlty3_txt': None, 'gname': 'MANO-D', 'gsubname': None, 'gname2': None, 'gsubname2': None, 'gname3': None, 'gsubname3': None, 'motive': None, 'guncertain1': 0.0, 'guncertain2': nan, 'guncertain3': nan, 'individual': 0, 'nperps': nan, 'nperpcap': nan, 'claimed': nan, 'claimmode': nan, 'claimmode_txt': None, 'claim2': nan, 'claimmode2': nan, 'claimmode2_txt': None, 'claim3': nan, 'claimmode3': nan, 'claimmode3_txt': None, 'compclaim': nan, 'weaptype1': 13, 'weaptype1_txt': 'Unknown', 'weapsubtype1': nan, 'weapsubtype1_txt': None, 'weaptype2': nan, 'weaptype2_txt': None, 'weapsubtype2': nan, 'weapsubtype2_txt': None, 'weaptype3': nan, 'weaptype3_txt': None, 'weapsubtype3': nan, 'weapsubtype3_txt': None, 'weaptype4': nan, 'weaptype4_txt': None, 'weapsubtype4': nan, 'weapsubtype4_txt': None, 'weapdetail': None, 'nkill': 1.0, 'nkillus': nan, 'nkillter': nan, 'nwound': 0.0, 'nwoundus': nan, 'nwoundte': nan, 'property': 0, 'propextent': nan, 'propextent_txt': None, 'propvalue': nan, 'propcomment': None, 'ishostkid': 0.0, 'nhostkid': nan, 'nhostkidus': nan, 'nhours': nan, 'ndays': nan, 'divert': None, 'kidhijcountry': None, 'ransom': 0.0, 'ransomamt': nan, 'ransomamtus': nan, 'ransompaid': nan, 'ransompaidus': nan, 'ransomnote': None, 'hostkidoutcome': nan, 'hostkidoutcome_txt': None, 'nreleased': nan, 'addnotes': None, 'scite1': None, 'scite2': None, 'scite3': None, 'dbsource': 'PGIS', 'INT_LOG': 0, 'INT_IDEO': 0, 'INT_MISC': 0, 'INT_ANY': 0, 'related': None}\n"
     ]
    }
   ],
   "source": [
    "# Retrieve data\n",
    "document = collection.find_one()\n",
    "print(document)"
   ]
  }
 ],
 "metadata": {
  "kernelspec": {
   "display_name": "Python 3 (ipykernel)",
   "language": "python",
   "name": "python3"
  },
  "language_info": {
   "codemirror_mode": {
    "name": "ipython",
    "version": 3
   },
   "file_extension": ".py",
   "mimetype": "text/x-python",
   "name": "python",
   "nbconvert_exporter": "python",
   "pygments_lexer": "ipython3",
   "version": "3.12.4"
  }
 },
 "nbformat": 4,
 "nbformat_minor": 5
}
